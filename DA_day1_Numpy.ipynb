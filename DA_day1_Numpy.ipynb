{
  "nbformat": 4,
  "nbformat_minor": 0,
  "metadata": {
    "colab": {
      "provenance": []
    },
    "kernelspec": {
      "name": "python3",
      "display_name": "Python 3"
    },
    "language_info": {
      "name": "python"
    }
  },
  "cells": [
    {
      "cell_type": "code",
      "execution_count": null,
      "metadata": {
        "id": "i6Vrn_SCeADw"
      },
      "outputs": [],
      "source": [
        "import numpy as np"
      ]
    },
    {
      "cell_type": "markdown",
      "source": [
        "Arrays\n"
      ],
      "metadata": {
        "id": "YFKyHAE4geDn"
      }
    },
    {
      "cell_type": "code",
      "source": [
        "c=np.array([[[2,3,4],[5,6,7]],[[4,3,2],[7,6,5]]])\n",
        "print(c)"
      ],
      "metadata": {
        "colab": {
          "base_uri": "https://localhost:8080/"
        },
        "id": "0rIHG8rGi0nA",
        "outputId": "d1cd26c2-953d-41ad-c304-a6552eaf410b"
      },
      "execution_count": null,
      "outputs": [
        {
          "output_type": "stream",
          "name": "stdout",
          "text": [
            "[[[2 3 4]\n",
            "  [5 6 7]]\n",
            "\n",
            " [[4 3 2]\n",
            "  [7 6 5]]]\n"
          ]
        }
      ]
    },
    {
      "cell_type": "code",
      "source": [
        "A= np.array([2,4,45,6,7])\n",
        "print(A)"
      ],
      "metadata": {
        "colab": {
          "base_uri": "https://localhost:8080/"
        },
        "id": "NUEEGYV7gmtI",
        "outputId": "bd0f8f49-ffc9-41ca-cc96-cb80eb137b98"
      },
      "execution_count": null,
      "outputs": [
        {
          "output_type": "stream",
          "name": "stdout",
          "text": [
            "[ 2  4 45  6  7]\n"
          ]
        }
      ]
    },
    {
      "cell_type": "code",
      "source": [
        "B= np.array([[2,3,4,5,6],[0,9,8,7,89]])\n",
        "print(B)"
      ],
      "metadata": {
        "colab": {
          "base_uri": "https://localhost:8080/"
        },
        "id": "qf8tZFn5hGlh",
        "outputId": "ec5eb2be-4e1e-4f45-9163-845d922fd1c9"
      },
      "execution_count": null,
      "outputs": [
        {
          "output_type": "stream",
          "name": "stdout",
          "text": [
            "[[ 2  3  4  5  6]\n",
            " [ 0  9  8  7 89]]\n"
          ]
        }
      ]
    },
    {
      "cell_type": "code",
      "source": [
        "C= np.array([[[2,3,4],[4,3,2]],[[5,6,7],[7,6,5]]])\n",
        "print(C)"
      ],
      "metadata": {
        "colab": {
          "base_uri": "https://localhost:8080/"
        },
        "id": "P4hyQvxph5eG",
        "outputId": "e6f570b0-1f9a-4deb-c246-55a88d9bc915"
      },
      "execution_count": null,
      "outputs": [
        {
          "output_type": "stream",
          "name": "stdout",
          "text": [
            "[[[2 3 4]\n",
            "  [4 3 2]]\n",
            "\n",
            " [[5 6 7]\n",
            "  [7 6 5]]]\n"
          ]
        }
      ]
    },
    {
      "cell_type": "code",
      "source": [
        "#checking dim\n",
        "print(A.ndim)\n",
        "print(B.ndim)\n",
        "print(C.ndim)\n"
      ],
      "metadata": {
        "colab": {
          "base_uri": "https://localhost:8080/"
        },
        "id": "Tof49P6PjMS5",
        "outputId": "3c860358-c120-4aa9-99bd-b07bca13859d"
      },
      "execution_count": null,
      "outputs": [
        {
          "output_type": "stream",
          "name": "stdout",
          "text": [
            "1\n",
            "2\n",
            "3\n"
          ]
        }
      ]
    },
    {
      "cell_type": "code",
      "source": [
        "D= np.ones((3,2))\n",
        "print(D)"
      ],
      "metadata": {
        "colab": {
          "base_uri": "https://localhost:8080/"
        },
        "id": "bXPke0bfjiNv",
        "outputId": "89fb6f75-e554-4d2d-a39a-2b2c048fb604"
      },
      "execution_count": null,
      "outputs": [
        {
          "output_type": "stream",
          "name": "stdout",
          "text": [
            "[[1. 1.]\n",
            " [1. 1.]\n",
            " [1. 1.]]\n"
          ]
        }
      ]
    },
    {
      "cell_type": "code",
      "source": [
        "E=np.zeros((3,4))\n",
        "print(E)"
      ],
      "metadata": {
        "colab": {
          "base_uri": "https://localhost:8080/"
        },
        "id": "ftc49mCzlfoU",
        "outputId": "6e9c47be-370e-46ff-a5c2-cfd08f81bcb5"
      },
      "execution_count": null,
      "outputs": [
        {
          "output_type": "stream",
          "name": "stdout",
          "text": [
            "[[0. 0. 0. 0.]\n",
            " [0. 0. 0. 0.]\n",
            " [0. 0. 0. 0.]]\n"
          ]
        }
      ]
    },
    {
      "cell_type": "code",
      "source": [
        "F=np.eye(6,6)\n",
        "print(F)"
      ],
      "metadata": {
        "colab": {
          "base_uri": "https://localhost:8080/"
        },
        "id": "vW8TuF2fmG-P",
        "outputId": "060d4980-d73d-41c0-b0be-e0f1e7fddfdd"
      },
      "execution_count": null,
      "outputs": [
        {
          "output_type": "stream",
          "name": "stdout",
          "text": [
            "[[1. 0. 0. 0. 0. 0.]\n",
            " [0. 1. 0. 0. 0. 0.]\n",
            " [0. 0. 1. 0. 0. 0.]\n",
            " [0. 0. 0. 1. 0. 0.]\n",
            " [0. 0. 0. 0. 1. 0.]\n",
            " [0. 0. 0. 0. 0. 1.]]\n"
          ]
        }
      ]
    },
    {
      "cell_type": "code",
      "source": [
        "j=np.eye(3,2)\n",
        "print(j)"
      ],
      "metadata": {
        "colab": {
          "base_uri": "https://localhost:8080/"
        },
        "id": "_NpVEX0lnkf8",
        "outputId": "8118bd86-f0c6-472f-ad4e-188e87e6b315"
      },
      "execution_count": null,
      "outputs": [
        {
          "output_type": "stream",
          "name": "stdout",
          "text": [
            "[[1. 0.]\n",
            " [0. 1.]\n",
            " [0. 0.]]\n"
          ]
        }
      ]
    },
    {
      "cell_type": "code",
      "source": [
        "s=np.arange(4,21,3).reshape(2,3)\n",
        "print(s)"
      ],
      "metadata": {
        "colab": {
          "base_uri": "https://localhost:8080/"
        },
        "id": "OXxkSx7bnQap",
        "outputId": "e30e58a0-70eb-44e7-bda2-851a5c8a5f54"
      },
      "execution_count": null,
      "outputs": [
        {
          "output_type": "stream",
          "name": "stdout",
          "text": [
            "[[ 4  7 10]\n",
            " [13 16 19]]\n"
          ]
        }
      ]
    },
    {
      "cell_type": "code",
      "source": [
        "s=np.arange(3,31,3)\n",
        "print(s)"
      ],
      "metadata": {
        "colab": {
          "base_uri": "https://localhost:8080/"
        },
        "id": "Q2p7Htj6n9ys",
        "outputId": "e98e49ce-464f-4b79-96fa-980a629730a6"
      },
      "execution_count": null,
      "outputs": [
        {
          "output_type": "stream",
          "name": "stdout",
          "text": [
            "[ 3  6  9 12 15 18 21 24 27 30]\n"
          ]
        }
      ]
    },
    {
      "cell_type": "code",
      "source": [
        "s=np.arange(3,31,3).reshape(5,2)\n",
        "print(s)"
      ],
      "metadata": {
        "colab": {
          "base_uri": "https://localhost:8080/"
        },
        "id": "ZgfO57vXoTZ6",
        "outputId": "aee48aec-f8a2-45bc-f511-90315483e9f8"
      },
      "execution_count": null,
      "outputs": [
        {
          "output_type": "stream",
          "name": "stdout",
          "text": [
            "[[ 3  6]\n",
            " [ 9 12]\n",
            " [15 18]\n",
            " [21 24]\n",
            " [27 30]]\n"
          ]
        }
      ]
    },
    {
      "cell_type": "code",
      "source": [
        "k=np.arange(5,1001,5)\n",
        "print(k)"
      ],
      "metadata": {
        "colab": {
          "base_uri": "https://localhost:8080/"
        },
        "id": "pyCVJ2VPpOec",
        "outputId": "604102f1-0e8f-4bfe-d369-37312faf4d25"
      },
      "execution_count": null,
      "outputs": [
        {
          "output_type": "stream",
          "name": "stdout",
          "text": [
            "[   5   10   15   20   25   30   35   40   45   50   55   60   65   70\n",
            "   75   80   85   90   95  100  105  110  115  120  125  130  135  140\n",
            "  145  150  155  160  165  170  175  180  185  190  195  200  205  210\n",
            "  215  220  225  230  235  240  245  250  255  260  265  270  275  280\n",
            "  285  290  295  300  305  310  315  320  325  330  335  340  345  350\n",
            "  355  360  365  370  375  380  385  390  395  400  405  410  415  420\n",
            "  425  430  435  440  445  450  455  460  465  470  475  480  485  490\n",
            "  495  500  505  510  515  520  525  530  535  540  545  550  555  560\n",
            "  565  570  575  580  585  590  595  600  605  610  615  620  625  630\n",
            "  635  640  645  650  655  660  665  670  675  680  685  690  695  700\n",
            "  705  710  715  720  725  730  735  740  745  750  755  760  765  770\n",
            "  775  780  785  790  795  800  805  810  815  820  825  830  835  840\n",
            "  845  850  855  860  865  870  875  880  885  890  895  900  905  910\n",
            "  915  920  925  930  935  940  945  950  955  960  965  970  975  980\n",
            "  985  990  995 1000]\n"
          ]
        }
      ]
    },
    {
      "cell_type": "code",
      "source": [
        "V=np.linspace(25,50,10)\n",
        "print(V)"
      ],
      "metadata": {
        "colab": {
          "base_uri": "https://localhost:8080/"
        },
        "id": "xtTRxaRJqYys",
        "outputId": "2407ab73-d63e-42fb-f1d4-8d40291c05e7"
      },
      "execution_count": null,
      "outputs": [
        {
          "output_type": "stream",
          "name": "stdout",
          "text": [
            "[25.         27.77777778 30.55555556 33.33333333 36.11111111 38.88888889\n",
            " 41.66666667 44.44444444 47.22222222 50.        ]\n"
          ]
        }
      ]
    },
    {
      "cell_type": "code",
      "source": [
        "L=np.arange(1,7).reshape(2,3)\n",
        "print(L)\n",
        "print(\"\\n\")\n",
        "R=np.arange(9,15).reshape(2,3)\n",
        "print(R)"
      ],
      "metadata": {
        "colab": {
          "base_uri": "https://localhost:8080/"
        },
        "id": "WdyAdOlkr3xP",
        "outputId": "e24d7e11-238d-4f0f-e7ef-c36c605b9776"
      },
      "execution_count": null,
      "outputs": [
        {
          "output_type": "stream",
          "name": "stdout",
          "text": [
            "[[1 2 3]\n",
            " [4 5 6]]\n",
            "\n",
            "\n",
            "[[ 9 10 11]\n",
            " [12 13 14]]\n"
          ]
        }
      ]
    },
    {
      "cell_type": "code",
      "source": [
        "print(L+R)"
      ],
      "metadata": {
        "colab": {
          "base_uri": "https://localhost:8080/"
        },
        "id": "y3bmlF7qst-C",
        "outputId": "a3bc1acc-9a7a-4124-d5c1-aa23dc5d78eb"
      },
      "execution_count": null,
      "outputs": [
        {
          "output_type": "stream",
          "name": "stdout",
          "text": [
            "[[10 12 14]\n",
            " [16 18 20]]\n"
          ]
        }
      ]
    },
    {
      "cell_type": "code",
      "source": [
        "G=np.sum((L,R))\n",
        "print(G)"
      ],
      "metadata": {
        "colab": {
          "base_uri": "https://localhost:8080/"
        },
        "id": "r60y_uUesxpt",
        "outputId": "93fca75d-5e01-4cbe-f668-26bebf63d361"
      },
      "execution_count": null,
      "outputs": [
        {
          "output_type": "stream",
          "name": "stdout",
          "text": [
            "90\n"
          ]
        }
      ]
    },
    {
      "cell_type": "code",
      "source": [
        "L=np.arange(1,7).reshape(2,3)\n",
        "print(L)\n",
        "print(\"\\n\")\n",
        "R=np.arange(9,15).reshape(2,3)\n",
        "print(R)"
      ],
      "metadata": {
        "colab": {
          "base_uri": "https://localhost:8080/"
        },
        "id": "6O7mdfuRoFdz",
        "outputId": "8a860bae-d10e-484c-f99d-8dedb2adc535"
      },
      "execution_count": null,
      "outputs": [
        {
          "output_type": "stream",
          "name": "stdout",
          "text": [
            "[[1 2 3]\n",
            " [4 5 6]]\n",
            "\n",
            "\n",
            "[[ 9 10 11]\n",
            " [12 13 14]]\n"
          ]
        }
      ]
    },
    {
      "cell_type": "code",
      "source": [
        "G=np.sum((L,R),axis=0)# adds rows\n",
        "print(G)"
      ],
      "metadata": {
        "colab": {
          "base_uri": "https://localhost:8080/"
        },
        "id": "rQDXe9RDu-nP",
        "outputId": "5fc8978a-b444-439b-ca16-dbbb10880f5f"
      },
      "execution_count": null,
      "outputs": [
        {
          "output_type": "stream",
          "name": "stdout",
          "text": [
            "[[10 12 14]\n",
            " [16 18 20]]\n"
          ]
        }
      ]
    },
    {
      "cell_type": "code",
      "source": [
        "G=np.sum((L,R),axis=1)#\n",
        "print(G)"
      ],
      "metadata": {
        "colab": {
          "base_uri": "https://localhost:8080/"
        },
        "id": "fFp1mBoIvZik",
        "outputId": "4b150e1e-7bbf-4c4b-9780-a4f55665bebd"
      },
      "execution_count": null,
      "outputs": [
        {
          "output_type": "stream",
          "name": "stdout",
          "text": [
            "[[ 5  7  9]\n",
            " [21 23 25]]\n"
          ]
        }
      ]
    },
    {
      "cell_type": "code",
      "source": [
        "G=np.sum((L,R),axis=2)\n",
        "print(G)"
      ],
      "metadata": {
        "colab": {
          "base_uri": "https://localhost:8080/"
        },
        "id": "vF6j_zfYwUrJ",
        "outputId": "22da2ab5-a6ad-4185-a73a-db3ab5c88b84"
      },
      "execution_count": null,
      "outputs": [
        {
          "output_type": "stream",
          "name": "stdout",
          "text": [
            "[[ 6 15]\n",
            " [30 39]]\n"
          ]
        }
      ]
    },
    {
      "cell_type": "code",
      "source": [
        "h=np.ones((4,2))\n",
        "g=np.ones((4,2))\n",
        "print(np.sum((h,g),axis=0))"
      ],
      "metadata": {
        "colab": {
          "base_uri": "https://localhost:8080/"
        },
        "id": "xGoVnUmYxGgQ",
        "outputId": "731d5e82-bad7-43e0-8f64-feecf4d514d7"
      },
      "execution_count": null,
      "outputs": [
        {
          "output_type": "stream",
          "name": "stdout",
          "text": [
            "[[2. 2.]\n",
            " [2. 2.]\n",
            " [2. 2.]\n",
            " [2. 2.]]\n"
          ]
        }
      ]
    },
    {
      "cell_type": "code",
      "source": [
        "b=np.array([25,289,361,81])\n",
        "for i in b:\n",
        "  print(np.sqrt(i), \"square root of\", i)"
      ],
      "metadata": {
        "colab": {
          "base_uri": "https://localhost:8080/"
        },
        "id": "jVNvZb0zyfr5",
        "outputId": "e0692f0f-a4b0-4d92-ec61-b474dc9b2b12"
      },
      "execution_count": null,
      "outputs": [
        {
          "output_type": "stream",
          "name": "stdout",
          "text": [
            "5.0 square root of 25\n",
            "17.0 square root of 289\n",
            "19.0 square root of 361\n",
            "9.0 square root of 81\n"
          ]
        }
      ]
    },
    {
      "cell_type": "code",
      "source": [
        "a=np.array([34,35,36,37,38,39])\n",
        "a.resize(2,3)\n",
        "b=np.array([4,5,6,7,8,9])\n",
        "b.resize(2,3)\n",
        "print(a)\n",
        "print(\"\\n\")\n",
        "print(b)"
      ],
      "metadata": {
        "colab": {
          "base_uri": "https://localhost:8080/"
        },
        "id": "fW6nQ10M6TFo",
        "outputId": "451513e2-597f-430a-9d26-aeb92600b9ba"
      },
      "execution_count": null,
      "outputs": [
        {
          "output_type": "stream",
          "name": "stdout",
          "text": [
            "[[34 35 36]\n",
            " [37 38 39]]\n",
            "\n",
            "\n",
            "[[4 5 6]\n",
            " [7 8 9]]\n"
          ]
        }
      ]
    },
    {
      "cell_type": "code",
      "source": [
        "print(np.vstack((b, a)))\n",
        "print(\"\\n\")\n",
        "print(np.hstack((a, b)))"
      ],
      "metadata": {
        "colab": {
          "base_uri": "https://localhost:8080/"
        },
        "id": "AZR8tmHr-GAR",
        "outputId": "05ac08e1-02ab-4bf4-eaa7-1e3ded5d6632"
      },
      "execution_count": null,
      "outputs": [
        {
          "output_type": "stream",
          "name": "stdout",
          "text": [
            "[[ 4  5  6]\n",
            " [ 7  8  9]\n",
            " [34 35 36]\n",
            " [37 38 39]]\n",
            "\n",
            "\n",
            "[[34 35 36  4  5  6]\n",
            " [37 38 39  7  8  9]]\n"
          ]
        }
      ]
    },
    {
      "cell_type": "code",
      "source": [
        "a=np.arange(30).reshape(2,3,5)\n",
        "print(a)\n",
        "\n"
      ],
      "metadata": {
        "colab": {
          "base_uri": "https://localhost:8080/"
        },
        "id": "h0mLmuqb8kkF",
        "outputId": "726603d2-5754-4a9e-ea1a-72fcfc2a97a5"
      },
      "execution_count": null,
      "outputs": [
        {
          "output_type": "stream",
          "name": "stdout",
          "text": [
            "[[[ 0  1  2  3  4]\n",
            "  [ 5  6  7  8  9]\n",
            "  [10 11 12 13 14]]\n",
            "\n",
            " [[15 16 17 18 19]\n",
            "  [20 21 22 23 24]\n",
            "  [25 26 27 28 29]]]\n"
          ]
        }
      ]
    },
    {
      "cell_type": "code",
      "source": [
        "print(np.dstack(a))"
      ],
      "metadata": {
        "colab": {
          "base_uri": "https://localhost:8080/"
        },
        "id": "Typ_IB9F9t9i",
        "outputId": "850f96e0-0fa4-45fd-c52d-c9c1024c565e"
      },
      "execution_count": null,
      "outputs": [
        {
          "output_type": "stream",
          "name": "stdout",
          "text": [
            "[[[34 37]\n",
            "  [35 38]\n",
            "  [36 39]]]\n"
          ]
        }
      ]
    },
    {
      "cell_type": "code",
      "source": [
        " pip install python-nmap\n"
      ],
      "metadata": {
        "colab": {
          "base_uri": "https://localhost:8080/"
        },
        "id": "G8mnbFgcV2Ut",
        "outputId": "405e9c7d-45bf-4542-ed77-a0cf8f44fe67"
      },
      "execution_count": null,
      "outputs": [
        {
          "output_type": "stream",
          "name": "stdout",
          "text": [
            "Collecting python-nmap\n",
            "  Downloading python-nmap-0.7.1.tar.gz (44 kB)\n",
            "\u001b[?25l     \u001b[90m━━━━━━━━━━━━━━━━━━━━━━━━━━━━━━━━━━━━━━━━\u001b[0m \u001b[32m0.0/44.4 kB\u001b[0m \u001b[31m?\u001b[0m eta \u001b[36m-:--:--\u001b[0m\r\u001b[2K     \u001b[90m━━━━━━━━━━━━━━━━━━━━━━━━━━━━━━━━━━━━━━━━\u001b[0m \u001b[32m44.4/44.4 kB\u001b[0m \u001b[31m1.6 MB/s\u001b[0m eta \u001b[36m0:00:00\u001b[0m\n",
            "\u001b[?25h  Preparing metadata (setup.py) ... \u001b[?25l\u001b[?25hdone\n",
            "Building wheels for collected packages: python-nmap\n",
            "  Building wheel for python-nmap (setup.py) ... \u001b[?25l\u001b[?25hdone\n",
            "  Created wheel for python-nmap: filename=python_nmap-0.7.1-py2.py3-none-any.whl size=20633 sha256=4793be49341d567b2ff95fac19fc9dd5d05d7219b265fcddb3f374ad23007745\n",
            "  Stored in directory: /root/.cache/pip/wheels/da/bd/c6/0342ac886d4deb8d166a3191eb2566f738c5b1574cb0a8cd62\n",
            "Successfully built python-nmap\n",
            "Installing collected packages: python-nmap\n",
            "Successfully installed python-nmap-0.7.1\n"
          ]
        }
      ]
    },
    {
      "cell_type": "code",
      "source": [],
      "metadata": {
        "id": "Pn2MUK9nV0v5"
      },
      "execution_count": null,
      "outputs": []
    },
    {
      "cell_type": "code",
      "source": [
        "import nmap\n",
        "\n",
        "def run_nmap_scan(target):\n",
        "    # Initialize Nmap PortScanner object\n",
        "    nm = nmap.PortScanner()\n",
        "\n",
        "    # Perform a basic TCP SYN scan\n",
        "    nm.scan(hosts=target, arguments='-sS')\n",
        "\n",
        "    # Print scan results\n",
        "    for host in nm.all_hosts():\n",
        "        print(f'Host : {host} ({nm[host].hostname()})')\n",
        "        print('State : %s' % nm[host].state())\n",
        "\n",
        "        for proto in nm[host].all_protocols():\n",
        "            print('----------')\n",
        "            print(f'Protocol : {proto}')\n",
        "\n",
        "            ports = nm[host][proto].keys()\n",
        "            for port in ports:\n",
        "                print(f'Port : {port}\\tState : {nm[host][proto][port][\"state\"]}\\tService : {nm[host][proto][port][\"name\"]}')\n",
        "\n",
        "# Example usage\n",
        "if __name__ == \"__main__\":\n",
        "    target = '192.168.1.1'\n",
        "    run_nmap_scan(target)\n"
      ],
      "metadata": {
        "colab": {
          "base_uri": "https://localhost:8080/",
          "height": 410
        },
        "id": "36mc5bnpR43N",
        "outputId": "2ed61dee-8577-401b-8b6a-6dbcd2bdf081"
      },
      "execution_count": null,
      "outputs": [
        {
          "output_type": "error",
          "ename": "PortScannerError",
          "evalue": "'nmap program was not found in path. PATH is : /opt/bin:/usr/local/nvidia/bin:/usr/local/cuda/bin:/usr/local/sbin:/usr/local/bin:/usr/sbin:/usr/bin:/sbin:/bin:/tools/node/bin:/tools/google-cloud-sdk/bin'",
          "traceback": [
            "\u001b[0;31m---------------------------------------------------------------------------\u001b[0m",
            "\u001b[0;31mPortScannerError\u001b[0m                          Traceback (most recent call last)",
            "\u001b[0;32m<ipython-input-5-90354cf07484>\u001b[0m in \u001b[0;36m<cell line: 24>\u001b[0;34m()\u001b[0m\n\u001b[1;32m     24\u001b[0m \u001b[0;32mif\u001b[0m \u001b[0m__name__\u001b[0m \u001b[0;34m==\u001b[0m \u001b[0;34m\"__main__\"\u001b[0m\u001b[0;34m:\u001b[0m\u001b[0;34m\u001b[0m\u001b[0;34m\u001b[0m\u001b[0m\n\u001b[1;32m     25\u001b[0m     \u001b[0mtarget\u001b[0m \u001b[0;34m=\u001b[0m \u001b[0;34m'192.168.1.1'\u001b[0m\u001b[0;34m\u001b[0m\u001b[0;34m\u001b[0m\u001b[0m\n\u001b[0;32m---> 26\u001b[0;31m     \u001b[0mrun_nmap_scan\u001b[0m\u001b[0;34m(\u001b[0m\u001b[0mtarget\u001b[0m\u001b[0;34m)\u001b[0m\u001b[0;34m\u001b[0m\u001b[0;34m\u001b[0m\u001b[0m\n\u001b[0m",
            "\u001b[0;32m<ipython-input-5-90354cf07484>\u001b[0m in \u001b[0;36mrun_nmap_scan\u001b[0;34m(target)\u001b[0m\n\u001b[1;32m      3\u001b[0m \u001b[0;32mdef\u001b[0m \u001b[0mrun_nmap_scan\u001b[0m\u001b[0;34m(\u001b[0m\u001b[0mtarget\u001b[0m\u001b[0;34m)\u001b[0m\u001b[0;34m:\u001b[0m\u001b[0;34m\u001b[0m\u001b[0;34m\u001b[0m\u001b[0m\n\u001b[1;32m      4\u001b[0m     \u001b[0;31m# Initialize Nmap PortScanner object\u001b[0m\u001b[0;34m\u001b[0m\u001b[0;34m\u001b[0m\u001b[0m\n\u001b[0;32m----> 5\u001b[0;31m     \u001b[0mnm\u001b[0m \u001b[0;34m=\u001b[0m \u001b[0mnmap\u001b[0m\u001b[0;34m.\u001b[0m\u001b[0mPortScanner\u001b[0m\u001b[0;34m(\u001b[0m\u001b[0;34m)\u001b[0m\u001b[0;34m\u001b[0m\u001b[0;34m\u001b[0m\u001b[0m\n\u001b[0m\u001b[1;32m      6\u001b[0m \u001b[0;34m\u001b[0m\u001b[0m\n\u001b[1;32m      7\u001b[0m     \u001b[0;31m# Perform a basic TCP SYN scan\u001b[0m\u001b[0;34m\u001b[0m\u001b[0;34m\u001b[0m\u001b[0m\n",
            "\u001b[0;32m/usr/local/lib/python3.10/dist-packages/nmap/nmap.py\u001b[0m in \u001b[0;36m__init__\u001b[0;34m(self, nmap_search_path)\u001b[0m\n\u001b[1;32m    134\u001b[0m                 \u001b[0;32mbreak\u001b[0m\u001b[0;34m\u001b[0m\u001b[0;34m\u001b[0m\u001b[0m\n\u001b[1;32m    135\u001b[0m         \u001b[0;32melse\u001b[0m\u001b[0;34m:\u001b[0m\u001b[0;34m\u001b[0m\u001b[0;34m\u001b[0m\u001b[0m\n\u001b[0;32m--> 136\u001b[0;31m             raise PortScannerError(\n\u001b[0m\u001b[1;32m    137\u001b[0m                 \u001b[0;34mf\"nmap program was not found in path. PATH is : {os.getenv('PATH')}\"\u001b[0m\u001b[0;34m\u001b[0m\u001b[0;34m\u001b[0m\u001b[0m\n\u001b[1;32m    138\u001b[0m             )\n",
            "\u001b[0;31mPortScannerError\u001b[0m: 'nmap program was not found in path. PATH is : /opt/bin:/usr/local/nvidia/bin:/usr/local/cuda/bin:/usr/local/sbin:/usr/local/bin:/usr/sbin:/usr/bin:/sbin:/bin:/tools/node/bin:/tools/google-cloud-sdk/bin'"
          ]
        }
      ]
    },
    {
      "cell_type": "code",
      "source": [
        "!pip install python-nmap\n"
      ],
      "metadata": {
        "colab": {
          "base_uri": "https://localhost:8080/"
        },
        "id": "o4eTnP74WRnK",
        "outputId": "84860d7c-0a2f-462b-f601-cc8130951ec5"
      },
      "execution_count": null,
      "outputs": [
        {
          "output_type": "stream",
          "name": "stdout",
          "text": [
            "Requirement already satisfied: python-nmap in /usr/local/lib/python3.10/dist-packages (0.7.1)\n"
          ]
        }
      ]
    },
    {
      "cell_type": "code",
      "source": [
        "import nmap\n"
      ],
      "metadata": {
        "id": "XTvUOeH-WW6s"
      },
      "execution_count": null,
      "outputs": []
    },
    {
      "cell_type": "code",
      "source": [
        "!nmap --version\n"
      ],
      "metadata": {
        "colab": {
          "base_uri": "https://localhost:8080/"
        },
        "id": "v2EmwfCVWcqI",
        "outputId": "471468c3-eb07-480e-f107-a24075e1eaa2"
      },
      "execution_count": null,
      "outputs": [
        {
          "output_type": "stream",
          "name": "stdout",
          "text": [
            "/bin/bash: line 1: nmap: command not found\n"
          ]
        }
      ]
    },
    {
      "cell_type": "code",
      "source": [
        "# Define the target IP address\n",
        "target = '192.168.1.1'\n",
        "\n",
        "# Run the Nmap scan\n",
        "run_nmap_scan(target)\n"
      ],
      "metadata": {
        "colab": {
          "base_uri": "https://localhost:8080/",
          "height": 410
        },
        "id": "1oivHh_CWiqj",
        "outputId": "6981d922-73e5-4092-f298-3373edfdf73a"
      },
      "execution_count": null,
      "outputs": [
        {
          "output_type": "error",
          "ename": "PortScannerError",
          "evalue": "'nmap program was not found in path. PATH is : /opt/bin:/usr/local/nvidia/bin:/usr/local/cuda/bin:/usr/local/sbin:/usr/local/bin:/usr/sbin:/usr/bin:/sbin:/bin:/tools/node/bin:/tools/google-cloud-sdk/bin'",
          "traceback": [
            "\u001b[0;31m---------------------------------------------------------------------------\u001b[0m",
            "\u001b[0;31mPortScannerError\u001b[0m                          Traceback (most recent call last)",
            "\u001b[0;32m<ipython-input-8-d3f8435a9e7f>\u001b[0m in \u001b[0;36m<cell line: 5>\u001b[0;34m()\u001b[0m\n\u001b[1;32m      3\u001b[0m \u001b[0;34m\u001b[0m\u001b[0m\n\u001b[1;32m      4\u001b[0m \u001b[0;31m# Run the Nmap scan\u001b[0m\u001b[0;34m\u001b[0m\u001b[0;34m\u001b[0m\u001b[0m\n\u001b[0;32m----> 5\u001b[0;31m \u001b[0mrun_nmap_scan\u001b[0m\u001b[0;34m(\u001b[0m\u001b[0mtarget\u001b[0m\u001b[0;34m)\u001b[0m\u001b[0;34m\u001b[0m\u001b[0;34m\u001b[0m\u001b[0m\n\u001b[0m",
            "\u001b[0;32m<ipython-input-5-90354cf07484>\u001b[0m in \u001b[0;36mrun_nmap_scan\u001b[0;34m(target)\u001b[0m\n\u001b[1;32m      3\u001b[0m \u001b[0;32mdef\u001b[0m \u001b[0mrun_nmap_scan\u001b[0m\u001b[0;34m(\u001b[0m\u001b[0mtarget\u001b[0m\u001b[0;34m)\u001b[0m\u001b[0;34m:\u001b[0m\u001b[0;34m\u001b[0m\u001b[0;34m\u001b[0m\u001b[0m\n\u001b[1;32m      4\u001b[0m     \u001b[0;31m# Initialize Nmap PortScanner object\u001b[0m\u001b[0;34m\u001b[0m\u001b[0;34m\u001b[0m\u001b[0m\n\u001b[0;32m----> 5\u001b[0;31m     \u001b[0mnm\u001b[0m \u001b[0;34m=\u001b[0m \u001b[0mnmap\u001b[0m\u001b[0;34m.\u001b[0m\u001b[0mPortScanner\u001b[0m\u001b[0;34m(\u001b[0m\u001b[0;34m)\u001b[0m\u001b[0;34m\u001b[0m\u001b[0;34m\u001b[0m\u001b[0m\n\u001b[0m\u001b[1;32m      6\u001b[0m \u001b[0;34m\u001b[0m\u001b[0m\n\u001b[1;32m      7\u001b[0m     \u001b[0;31m# Perform a basic TCP SYN scan\u001b[0m\u001b[0;34m\u001b[0m\u001b[0;34m\u001b[0m\u001b[0m\n",
            "\u001b[0;32m/usr/local/lib/python3.10/dist-packages/nmap/nmap.py\u001b[0m in \u001b[0;36m__init__\u001b[0;34m(self, nmap_search_path)\u001b[0m\n\u001b[1;32m    134\u001b[0m                 \u001b[0;32mbreak\u001b[0m\u001b[0;34m\u001b[0m\u001b[0;34m\u001b[0m\u001b[0m\n\u001b[1;32m    135\u001b[0m         \u001b[0;32melse\u001b[0m\u001b[0;34m:\u001b[0m\u001b[0;34m\u001b[0m\u001b[0;34m\u001b[0m\u001b[0m\n\u001b[0;32m--> 136\u001b[0;31m             raise PortScannerError(\n\u001b[0m\u001b[1;32m    137\u001b[0m                 \u001b[0;34mf\"nmap program was not found in path. PATH is : {os.getenv('PATH')}\"\u001b[0m\u001b[0;34m\u001b[0m\u001b[0;34m\u001b[0m\u001b[0m\n\u001b[1;32m    138\u001b[0m             )\n",
            "\u001b[0;31mPortScannerError\u001b[0m: 'nmap program was not found in path. PATH is : /opt/bin:/usr/local/nvidia/bin:/usr/local/cuda/bin:/usr/local/sbin:/usr/local/bin:/usr/sbin:/usr/bin:/sbin:/bin:/tools/node/bin:/tools/google-cloud-sdk/bin'"
          ]
        }
      ]
    }
  ]
}