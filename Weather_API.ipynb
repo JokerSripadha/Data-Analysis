{
  "nbformat": 4,
  "nbformat_minor": 0,
  "metadata": {
    "colab": {
      "provenance": []
    },
    "kernelspec": {
      "name": "python3",
      "display_name": "Python 3"
    },
    "language_info": {
      "name": "python"
    }
  },
  "cells": [
    {
      "cell_type": "code",
      "execution_count": null,
      "metadata": {
        "colab": {
          "base_uri": "https://localhost:8080/"
        },
        "id": "HDnSa5zSCwx_",
        "outputId": "4caea9af-f78b-4567-bf54-fe776d8920f7"
      },
      "outputs": [
        {
          "output_type": "stream",
          "name": "stdout",
          "text": [
            "Enter city name: Tanuku\n",
            "Weather in Tanuku:\n",
            "Condition: Sunny\n",
            "Temperature (C): 33.3\n",
            "Feels like (C): 32.9\n",
            "Humidity: 30\n",
            "Wind (km/h): 23.0\n",
            "Wind Direction: S\n",
            "Cloud : 7\n",
            "No alerts\n"
          ]
        }
      ],
      "source": [
        "import requests\n",
        "\n",
        "api_key = 'a6397a3666834e188b7162940242002'\n",
        "\n",
        "def get_weather(city, api_key):\n",
        "    url = f\"https://api.weatherapi.com/v1/current.json?key={api_key}&q={city}\"\n",
        "    response = requests.get(url)\n",
        "    data = response.json()\n",
        "    return data\n",
        "\n",
        "def main():\n",
        "    city = input(\"Enter city name: \")\n",
        "    weather_data = get_weather(city, api_key)\n",
        "\n",
        "    if 'error' in weather_data:\n",
        "        print(\"Error:\", weather_data['error']['message'])\n",
        "    else:\n",
        "        print(f\"Weather in {city}:\")\n",
        "        print(\"Condition:\", weather_data['current']['condition']['text'])\n",
        "        print(\"Temperature (C):\", weather_data['current']['temp_c'])\n",
        "        print(\"Feels like (C):\", weather_data['current']['feelslike_c'])\n",
        "        print(\"Humidity:\", weather_data['current']['humidity'])\n",
        "        print(\"Wind (km/h):\", weather_data['current']['wind_kph'])\n",
        "        print(\"Wind Direction:\", weather_data['current']['wind_dir'])\n",
        "        print(\"Cloud :\", weather_data['current']['cloud'])\n",
        "\n",
        "        if 'alert' in weather_data['current']:\n",
        "            print(\"Alert Headline:\", weather_data['current']['alert']['headline'])\n",
        "        else:\n",
        "            print(\"No alerts\")\n",
        "\n",
        "\n",
        "if __name__ == \"__main__\":\n",
        "    main()"
      ]
    }
  ]
}