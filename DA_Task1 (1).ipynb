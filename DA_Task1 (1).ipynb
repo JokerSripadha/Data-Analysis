{
  "nbformat": 4,
  "nbformat_minor": 0,
  "metadata": {
    "colab": {
      "provenance": []
    },
    "kernelspec": {
      "name": "python3",
      "display_name": "Python 3"
    },
    "language_info": {
      "name": "python"
    }
  },
  "cells": [
    {
      "cell_type": "code",
      "execution_count": null,
      "metadata": {
        "id": "u-tWqYywrc7q"
      },
      "outputs": [],
      "source": [
        "import tensorflow as tf\n",
        "from tensorflow import keras\n",
        "from tensorflow.keras import layers\n",
        "from tensorflow.keras.preprocessing.image import ImageDataGenerator\n",
        "\n",
        "IMG_SIZE =224\n",
        "BATCH_SIZE =32"
      ]
    },
    {
      "cell_type": "code",
      "source": [
        "#Define data generators for train, validation and test sets\n",
        "train_datagen = ImageDataGenerator(rescale=1./225,validation_split=0.2)\n",
        "train_generator= train_datagen.flow_from_directory('/content/drive/MyDrive/mango/train',\n",
        "    target_size = (IMG_SIZE, IMG_SIZE),\n",
        "    batch_size = BATCH_SIZE,\n",
        "    class_mode = 'binary',\n",
        "    subset = 'training'\n",
        ")\n",
        "\n",
        "val_generator= train_datagen.flow_from_directory('/content/drive/MyDrive/mango/train',\n",
        "    target_size = (IMG_SIZE, IMG_SIZE),\n",
        "    batch_size = BATCH_SIZE,\n",
        "    class_mode = 'binary',\n",
        "    subset = 'validation'\n",
        ")\n",
        "\n",
        "test_datagen = ImageDataGenerator(rescale=1./225)\n",
        "\n",
        "test_generator= test_datagen.flow_from_directory('/content/drive/MyDrive/mango/test',\n",
        "    target_size = (IMG_SIZE, IMG_SIZE),\n",
        "    batch_size = BATCH_SIZE,\n",
        "    class_mode = 'binary'\n",
        "\n",
        ")"
      ],
      "metadata": {
        "colab": {
          "base_uri": "https://localhost:8080/"
        },
        "id": "DXN-tuObriKN",
        "outputId": "15c01cd4-5219-4958-c115-8ee4d1f89cab"
      },
      "execution_count": null,
      "outputs": [
        {
          "output_type": "stream",
          "name": "stdout",
          "text": [
            "Found 20 images belonging to 2 classes.\n",
            "Found 4 images belonging to 2 classes.\n",
            "Found 29 images belonging to 1 classes.\n"
          ]
        }
      ]
    },
    {
      "cell_type": "code",
      "source": [
        "from google.colab import drive\n",
        "drive.mount('/content/drive')"
      ],
      "metadata": {
        "colab": {
          "base_uri": "https://localhost:8080/"
        },
        "id": "fT0DqBSAtOzi",
        "outputId": "db491a5f-7a6b-4a62-ac52-6551424984d1"
      },
      "execution_count": null,
      "outputs": [
        {
          "output_type": "stream",
          "name": "stdout",
          "text": [
            "Mounted at /content/drive\n"
          ]
        }
      ]
    },
    {
      "cell_type": "code",
      "source": [
        "from tensorflow import keras\n",
        "from tensorflow.keras import layers\n",
        "\n",
        "# Define the number of color classes\n",
        "num_color_classes = 3  # Assuming three color categories: green, yellow, red\n",
        "\n",
        "model = keras.Sequential([\n",
        "    layers.Conv2D(32, (3, 3), activation='relu', input_shape=(IMG_SIZE, IMG_SIZE, 3)),\n",
        "    layers.MaxPooling2D((2, 2)),\n",
        "    layers.Conv2D(64, (3, 3), activation='relu'),\n",
        "    layers.MaxPooling2D((2, 2)),\n",
        "    layers.Conv2D(128, (3, 3), activation='relu'),\n",
        "    layers.MaxPooling2D((2, 2)),\n",
        "    layers.Flatten(),\n",
        "    layers.Dense(128, activation='relu'),\n",
        "    layers.Dense(num_color_classes, activation='softmax')  # Adjusted for multiple color classes\n",
        "])"
      ],
      "metadata": {
        "id": "4xZb7JKGtx6Q"
      },
      "execution_count": null,
      "outputs": []
    },
    {
      "cell_type": "code",
      "source": [
        "model.compile(\n",
        "    optimizer='adam',\n",
        "    loss='categorical_crossentropy',  # Adjusted for multiclass classification\n",
        "    metrics=['accuracy']  # Adjusted for multiclass classification\n",
        ")\n"
      ],
      "metadata": {
        "id": "L-h8QCJ3t6h8"
      },
      "execution_count": null,
      "outputs": []
    },
    {
      "cell_type": "code",
      "source": [
        "model.save(\"Model3.h5\",\"label.txt\")"
      ],
      "metadata": {
        "colab": {
          "base_uri": "https://localhost:8080/"
        },
        "id": "5Cggfk1Wt-LW",
        "outputId": "3c757cd8-6193-42f4-9495-c6078d4b7db3"
      },
      "execution_count": null,
      "outputs": [
        {
          "output_type": "stream",
          "name": "stderr",
          "text": [
            "/usr/local/lib/python3.10/dist-packages/keras/src/engine/training.py:3103: UserWarning: You are saving your model as an HDF5 file via `model.save()`. This file format is considered legacy. We recommend using instead the native Keras format, e.g. `model.save('my_model.keras')`.\n",
            "  saving_api.save_model(\n"
          ]
        }
      ]
    },
    {
      "cell_type": "code",
      "source": [
        "from tensorflow.keras.models import load_model\n",
        "from tensorflow.keras.preprocessing import image\n",
        "import numpy as np\n",
        "\n",
        "# Load the saved model\n",
        "model = load_model('/content/Model3.h5')\n",
        "\n",
        "# Load and preprocess the test image\n",
        "test_image_path = '/content/drive/MyDrive/mango/train/rip/14.jpg'\n",
        "img = image.load_img(test_image_path, target_size=(224, 224))\n",
        "img_array = image.img_to_array(img)\n",
        "img_array = np.expand_dims(img_array, axis=0)  # Add batch dimension\n",
        "img_array /= 255.  # Normalize the pixel values\n",
        "\n",
        "# Make predictions\n",
        "prediction = model.predict(img_array)\n",
        "print(prediction)\n",
        "\n",
        "# Decode the prediction to get the color category\n",
        "color_categories = ['Green', 'Yellow', 'Red']  # Assuming these are your color categories\n",
        "predicted_color_index = np.argmax(prediction)\n",
        "predicted_color = color_categories[predicted_color_index]\n",
        "\n",
        "if predicted_color == ['Red','Yellow']:\n",
        "   print(\"Predicted Color: rip MAngo\", predicted_color, \"(Probability:\", prediction[0][predicted_color_index], \")\")\n",
        "else:\n",
        "  print(\"Predicted Color: raw mango\", predicted_color, \"(Probability:\", prediction[0][predicted_color_index], \")\")"
      ],
      "metadata": {
        "colab": {
          "base_uri": "https://localhost:8080/"
        },
        "id": "o7LQiurguB9S",
        "outputId": "274b8c61-f382-4ece-aabb-1df34b50a70a"
      },
      "execution_count": null,
      "outputs": [
        {
          "output_type": "stream",
          "name": "stdout",
          "text": [
            "1/1 [==============================] - 0s 263ms/step\n",
            "[[0.35927698 0.31835493 0.32236812]]\n",
            "Predicted Color: raw mango Green (Probability: 0.35927698 )\n"
          ]
        }
      ]
    }
  ]
}