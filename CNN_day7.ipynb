{
  "nbformat": 4,
  "nbformat_minor": 0,
  "metadata": {
    "colab": {
      "provenance": [],
      "gpuType": "T4"
    },
    "kernelspec": {
      "name": "python3",
      "display_name": "Python 3"
    },
    "language_info": {
      "name": "python"
    },
    "accelerator": "GPU"
  },
  "cells": [
    {
      "cell_type": "code",
      "execution_count": null,
      "metadata": {
        "id": "K6KRW5ka8FhJ"
      },
      "outputs": [],
      "source": [
        "import tensorflow as tf\n",
        "from tensorflow import keras\n",
        "from tensorflow.keras import layers\n",
        "from tensorflow.keras.preprocessing.image import ImageDataGenerator\n",
        "\n",
        "IMG_SIZE =224\n",
        "BATCH_SIZE =32"
      ]
    },
    {
      "cell_type": "code",
      "source": [
        "#Define data generators for train, validation and test sets\n",
        "train_datagen = ImageDataGenerator(rescale=1./225,validation_split=0.2)\n",
        "train_generator= train_datagen.flow_from_directory('/content/drive/MyDrive/Brain_Tumor_Detection/train',\n",
        "    target_size = (IMG_SIZE, IMG_SIZE),\n",
        "    batch_size = BATCH_SIZE,\n",
        "    class_mode = 'binary',\n",
        "    subset = 'training'\n",
        ")\n",
        "\n",
        "val_generator= train_datagen.flow_from_directory('/content/drive/MyDrive/Brain_Tumor_Detection/train',\n",
        "    target_size = (IMG_SIZE, IMG_SIZE),\n",
        "    batch_size = BATCH_SIZE,\n",
        "    class_mode = 'binary',\n",
        "    subset = 'validation'\n",
        ")\n",
        "\n",
        "test_datagen = ImageDataGenerator(rescale=1./225)\n",
        "\n",
        "test_generator= test_datagen.flow_from_directory('/content/drive/MyDrive/Brain_Tumor_Detection/test',\n",
        "    target_size = (IMG_SIZE, IMG_SIZE),\n",
        "    batch_size = BATCH_SIZE,\n",
        "    class_mode = 'binary'\n",
        "\n",
        ")\n",
        "\n"
      ],
      "metadata": {
        "id": "BR3C2SQG-Ax-",
        "colab": {
          "base_uri": "https://localhost:8080/"
        },
        "outputId": "deb1c881-6085-4c1f-baa6-660493814fd9"
      },
      "execution_count": null,
      "outputs": [
        {
          "output_type": "stream",
          "name": "stdout",
          "text": [
            "Found 2416 images belonging to 2 classes.\n",
            "Found 604 images belonging to 2 classes.\n",
            "Found 60 images belonging to 1 classes.\n"
          ]
        }
      ]
    },
    {
      "cell_type": "code",
      "source": [
        "from google.colab import drive\n",
        "drive.mount('/content/drive')"
      ],
      "metadata": {
        "colab": {
          "base_uri": "https://localhost:8080/"
        },
        "id": "LeDQHHiYh_dV",
        "outputId": "d022c4d7-88b3-4226-da53-9ba15f1f659d"
      },
      "execution_count": null,
      "outputs": [
        {
          "output_type": "stream",
          "name": "stdout",
          "text": [
            "Mounted at /content/drive\n"
          ]
        }
      ]
    },
    {
      "cell_type": "markdown",
      "source": [],
      "metadata": {
        "id": "7IOsJqF1oDOF"
      }
    },
    {
      "cell_type": "code",
      "source": [
        "#define the model\n",
        "model=keras.Sequential([\n",
        "    layers.Conv2D(32,(3,3),activation='relu',input_shape=(IMG_SIZE,IMG_SIZE,3)),\n",
        "    layers.MaxPooling2D((2,2)),\n",
        "    layers.Conv2D(64,(3,3),activation='relu'),\n",
        "    layers.MaxPooling2D((2,2)),\n",
        "    layers.Conv2D(128,(3,3),activation='relu'),\n",
        "    layers.MaxPooling2D((2,2)),\n",
        "    layers.Flatten(),\n",
        "    layers.Dense(128,activation='relu'),\n",
        "    layers.Dense(1,activation='sigmoid')\n",
        "    ])"
      ],
      "metadata": {
        "id": "qcIUr1culrHG"
      },
      "execution_count": null,
      "outputs": []
    },
    {
      "cell_type": "code",
      "source": [
        "#compile the model\n",
        "model.compile(optimizer='adam',loss='binary_crossentropy',metrics=['accuracy'])"
      ],
      "metadata": {
        "id": "FPrsANHhomvq"
      },
      "execution_count": null,
      "outputs": []
    },
    {
      "cell_type": "code",
      "source": [
        "history=model.fit(train_generator,validation_data=val_generator,epochs=1)"
      ],
      "metadata": {
        "colab": {
          "base_uri": "https://localhost:8080/"
        },
        "id": "4LnatkuXsxIR",
        "outputId": "3221d7b1-e24a-4530-e5a5-d93b52970fbc"
      },
      "execution_count": null,
      "outputs": [
        {
          "output_type": "stream",
          "name": "stdout",
          "text": [
            "Epoch 1/5\n",
            "76/76 [==============================] - 874s 11s/step - loss: 0.6037 - accuracy: 0.7632 - val_loss: 0.2770 - val_accuracy: 0.8924\n",
            "Epoch 2/5\n",
            "76/76 [==============================] - 17s 222ms/step - loss: 0.2253 - accuracy: 0.9127 - val_loss: 0.2876 - val_accuracy: 0.8775\n",
            "Epoch 3/5\n",
            "76/76 [==============================] - 16s 215ms/step - loss: 0.0946 - accuracy: 0.9710 - val_loss: 0.0435 - val_accuracy: 0.9785\n",
            "Epoch 4/5\n",
            "76/76 [==============================] - 17s 217ms/step - loss: 0.0849 - accuracy: 0.9698 - val_loss: 0.0511 - val_accuracy: 0.9834\n",
            "Epoch 5/5\n",
            "76/76 [==============================] - 16s 211ms/step - loss: 0.0376 - accuracy: 0.9888 - val_loss: 0.0238 - val_accuracy: 0.9950\n"
          ]
        }
      ]
    },
    {
      "cell_type": "code",
      "source": [
        "model.save(\"model.h5\",\"label.txt\")"
      ],
      "metadata": {
        "id": "8UsR_HTvs2Gj"
      },
      "execution_count": null,
      "outputs": []
    },
    {
      "cell_type": "code",
      "source": [
        "from tensorflow.keras.models import load_model\n",
        "from tensorflow.keras.preprocessing import image\n",
        "import numpy as np\n",
        "\n",
        "#load the saved model\n",
        "model=load_model('/content/Model.h5')\n",
        "\n",
        "#load and preprocess the test image\n",
        "test_image_path='/content/drive/MyDrive/Brain_Tumor_Detection/test/pred/pred17.jpg'\n",
        "img=image.load_img(test_image_path,target_size=(224,224))\n",
        "img_array=image.img_to_array(img)\n",
        "img_array=np.expand_dims(img_array ,axis=0)  #batch dimension\n",
        "img_array /=255.  #normalise the pixel values\n",
        "#make predictions\n",
        "predicition = model.predict(img_array)\n",
        "\n",
        "if predicition < 0.5:\n",
        "  print(\"Predition: No tumor (Probability:\",predicition[0][0], \")\")\n",
        "else:\n",
        "  print(\"Predition: tumor present (Probability:\",predicition[0][0], \")\")\n"
      ],
      "metadata": {
        "colab": {
          "base_uri": "https://localhost:8080/"
        },
        "id": "3TE0QAcQtIFA",
        "outputId": "4db7d870-02bd-4471-ce7c-c4f7e35b0ff7"
      },
      "execution_count": null,
      "outputs": [
        {
          "output_type": "stream",
          "name": "stdout",
          "text": [
            "1/1 [==============================] - 0s 74ms/step\n",
            "Predition: No tumor (Probability: 0.007297242 )\n"
          ]
        }
      ]
    }
  ]
}