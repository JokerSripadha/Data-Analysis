{
  "nbformat": 4,
  "nbformat_minor": 0,
  "metadata": {
    "colab": {
      "provenance": []
    },
    "kernelspec": {
      "name": "python3",
      "display_name": "Python 3"
    },
    "language_info": {
      "name": "python"
    }
  },
  "cells": [
    {
      "cell_type": "code",
      "source": [
        "a=5\n",
        "print(\"I am \",a,\"years old\")\n"
      ],
      "metadata": {
        "colab": {
          "base_uri": "https://localhost:8080/"
        },
        "id": "-FLNUSEXq5Og",
        "outputId": "fc81b464-ebee-48d5-cd25-f799c2388058"
      },
      "execution_count": null,
      "outputs": [
        {
          "output_type": "stream",
          "name": "stdout",
          "text": [
            "I am  5 years old\n"
          ]
        }
      ]
    },
    {
      "cell_type": "code",
      "source": [],
      "metadata": {
        "id": "4w62PfrR8QSL"
      },
      "execution_count": null,
      "outputs": []
    },
    {
      "cell_type": "code",
      "source": [
        "a=5\n",
        "b=32\n",
        "print(a+b)"
      ],
      "metadata": {
        "colab": {
          "base_uri": "https://localhost:8080/"
        },
        "id": "LtOfBU2IrzGj",
        "outputId": "2559ff2f-d790-40ac-d9e6-9ad04fca0e4d"
      },
      "execution_count": null,
      "outputs": [
        {
          "output_type": "stream",
          "name": "stdout",
          "text": [
            "37\n"
          ]
        }
      ]
    },
    {
      "cell_type": "code",
      "source": [
        "\n",
        "print(2**5)"
      ],
      "metadata": {
        "colab": {
          "base_uri": "https://localhost:8080/"
        },
        "id": "88sjayTtr_19",
        "outputId": "3a726707-b716-44e4-bb02-0b3ef9f74e6d"
      },
      "execution_count": null,
      "outputs": [
        {
          "output_type": "stream",
          "name": "stdout",
          "text": [
            "32\n"
          ]
        }
      ]
    },
    {
      "cell_type": "code",
      "source": [
        "print(2//5)"
      ],
      "metadata": {
        "colab": {
          "base_uri": "https://localhost:8080/"
        },
        "id": "yDAyQaAnsjY-",
        "outputId": "1e1d02c2-9aa5-437e-820a-ba05818be98c"
      },
      "execution_count": null,
      "outputs": [
        {
          "output_type": "stream",
          "name": "stdout",
          "text": [
            "0\n"
          ]
        }
      ]
    },
    {
      "cell_type": "code",
      "source": [
        "a=6\n",
        "b=5\n",
        "print(a==b)\n",
        "print(a<=b)\n",
        "print(a<b)\n",
        "\n"
      ],
      "metadata": {
        "colab": {
          "base_uri": "https://localhost:8080/"
        },
        "id": "r7lDBAeWssLW",
        "outputId": "cd50515b-e281-4efd-f148-b75c08f86aad"
      },
      "execution_count": null,
      "outputs": [
        {
          "output_type": "stream",
          "name": "stdout",
          "text": [
            "False\n",
            "False\n",
            "False\n"
          ]
        }
      ]
    },
    {
      "cell_type": "code",
      "source": [
        "#logicasl\n",
        "a=5\n",
        "b=6\n",
        "print((a==b) and (a<=b))\n",
        "print((a==b) or (a<=b))"
      ],
      "metadata": {
        "colab": {
          "base_uri": "https://localhost:8080/"
        },
        "id": "kJatVfPhsqNt",
        "outputId": "04ea56ca-f04c-4a75-93fd-05b2e35ec0dd"
      },
      "execution_count": null,
      "outputs": [
        {
          "output_type": "stream",
          "name": "stdout",
          "text": [
            "False\n",
            "True\n"
          ]
        }
      ]
    },
    {
      "cell_type": "code",
      "source": [
        "a= \"Priate\"\n",
        "print(\"a\" in a)\n",
        "print(\"a\" not in a)"
      ],
      "metadata": {
        "colab": {
          "base_uri": "https://localhost:8080/"
        },
        "id": "4nvX6F_uuLz1",
        "outputId": "74096bb5-624a-4005-c22f-08e33c4446d2"
      },
      "execution_count": null,
      "outputs": [
        {
          "output_type": "stream",
          "name": "stdout",
          "text": [
            "True\n",
            "False\n"
          ]
        }
      ]
    },
    {
      "cell_type": "markdown",
      "source": [
        "Control flow\n",
        "[link text](https://)"
      ],
      "metadata": {
        "id": "ArZ4KXbFu5fZ"
      }
    },
    {
      "cell_type": "code",
      "source": [
        "a=int(input(\"Enter n value\"))\n",
        "if(a<0):\n",
        "  print(\"is negitive\")\n",
        "elif(a==0) :\n",
        "  print(\"is netheir positive nor negitve\")\n",
        "else:\n",
        "\n",
        "  print(\"is negitive\")"
      ],
      "metadata": {
        "colab": {
          "base_uri": "https://localhost:8080/"
        },
        "id": "vUxFv5m7u-r2",
        "outputId": "92a38afe-f4a3-4455-985f-f57fc4187ea8"
      },
      "execution_count": null,
      "outputs": [
        {
          "output_type": "stream",
          "name": "stdout",
          "text": [
            "Enter n value798787789879\n",
            "is negitive\n"
          ]
        }
      ]
    },
    {
      "cell_type": "code",
      "source": [
        "for i in range(1,11,1):\n",
        "  a=4*i\n",
        "  print(a)\n"
      ],
      "metadata": {
        "colab": {
          "base_uri": "https://localhost:8080/"
        },
        "id": "f8M7Zzfy0l0s",
        "outputId": "9f375df9-e018-4913-f514-61d19e307337"
      },
      "execution_count": null,
      "outputs": [
        {
          "output_type": "stream",
          "name": "stdout",
          "text": [
            "4\n",
            "8\n",
            "12\n",
            "16\n",
            "20\n",
            "24\n",
            "28\n",
            "32\n",
            "36\n",
            "40\n"
          ]
        }
      ]
    },
    {
      "cell_type": "code",
      "source": [
        "n=4\n",
        "i=0\n",
        "while(i<=11):\n",
        "  a=n*i\n",
        "  i=i+1\n",
        "  print(a)"
      ],
      "metadata": {
        "colab": {
          "base_uri": "https://localhost:8080/"
        },
        "id": "ocHbinpF5ula",
        "outputId": "b05c9f07-9eba-440f-cccf-aa90dbbfc286"
      },
      "execution_count": null,
      "outputs": [
        {
          "output_type": "stream",
          "name": "stdout",
          "text": [
            "0\n",
            "4\n",
            "8\n",
            "12\n",
            "16\n",
            "20\n",
            "24\n",
            "28\n",
            "32\n",
            "36\n",
            "40\n",
            "44\n"
          ]
        }
      ]
    },
    {
      "cell_type": "code",
      "source": [
        "a=[]\n",
        "b=[2,23,87]\n",
        "for i in range(1,11,1):\n",
        "  a.append(i)\n",
        "\n",
        "\n",
        "\n",
        "a.insert(3,7)\n",
        "print(a)\n",
        "\n",
        "\n",
        "\n",
        "print(min(a))"
      ],
      "metadata": {
        "colab": {
          "base_uri": "https://localhost:8080/"
        },
        "id": "9-XjVEDl8Sio",
        "outputId": "a31049cc-c137-442e-bf96-9522a5560d4d"
      },
      "execution_count": null,
      "outputs": [
        {
          "output_type": "stream",
          "name": "stdout",
          "text": [
            "[1, 2, 3, 7, 4, 5, 6, 7, 8, 9, 10]\n",
            "1\n"
          ]
        }
      ]
    },
    {
      "cell_type": "code",
      "source": [
        "l2 = [i**2 for i in a]"
      ],
      "metadata": {
        "id": "0bc_Y604FaKF"
      },
      "execution_count": null,
      "outputs": []
    },
    {
      "cell_type": "code",
      "source": [
        "l2 = [i**2 for i in a if i<50]\n",
        "print(l2)"
      ],
      "metadata": {
        "colab": {
          "base_uri": "https://localhost:8080/"
        },
        "id": "buD-07LQFZTS",
        "outputId": "2c8bbb3e-6636-4ac3-daba-42f0900de28e"
      },
      "execution_count": null,
      "outputs": [
        {
          "output_type": "stream",
          "name": "stdout",
          "text": [
            "[1, 4, 9, 49, 16, 25, 36, 49, 64, 81, 100]\n"
          ]
        }
      ]
    },
    {
      "cell_type": "code",
      "source": [
        "#the salarry of 5 emp in company is taken as a list .The\n",
        "\n",
        "sal=[67000,45000,89000,34000,50000]\n",
        "sal1=[0.1*i for i in sal if i<=50000]\n",
        "sal2=[0.15*i for i in sal if i>50000]\n",
        "\n",
        "sal1.extend(sal2)\n",
        "print(sal1)"
      ],
      "metadata": {
        "colab": {
          "base_uri": "https://localhost:8080/"
        },
        "id": "QGbzVJEsHQ_c",
        "outputId": "587d3643-3ff3-4615-eaa6-b3320271c7fb"
      },
      "execution_count": null,
      "outputs": [
        {
          "output_type": "stream",
          "name": "stdout",
          "text": [
            "[4500.0, 3400.0, 5000.0, 10050.0, 13350.0]\n"
          ]
        }
      ]
    },
    {
      "cell_type": "code",
      "source": [
        "sal3=[0.1*i if i<=50000 else 0.15*i for i in sal]\n",
        "print(sal3)+"
      ],
      "metadata": {
        "colab": {
          "base_uri": "https://localhost:8080/"
        },
        "id": "LSpDxWs5KRmO",
        "outputId": "724541f9-ab05-4cf0-877d-013a09a3df7c"
      },
      "execution_count": null,
      "outputs": [
        {
          "output_type": "stream",
          "name": "stdout",
          "text": [
            "[10050.0, 4500.0, 13350.0, 3400.0, 5000.0]\n"
          ]
        }
      ]
    },
    {
      "cell_type": "code",
      "source": [],
      "metadata": {
        "id": "B36QCMlCMwTe"
      },
      "execution_count": null,
      "outputs": []
    }
  ]
}