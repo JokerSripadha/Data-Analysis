{
  "nbformat": 4,
  "nbformat_minor": 0,
  "metadata": {
    "colab": {
      "provenance": []
    },
    "kernelspec": {
      "name": "python3",
      "display_name": "Python 3"
    },
    "language_info": {
      "name": "python"
    }
  },
  "cells": [
    {
      "cell_type": "code",
      "source": [
        "import numpy as np"
      ],
      "metadata": {
        "id": "Ewj8hLqars49"
      },
      "execution_count": null,
      "outputs": []
    },
    {
      "cell_type": "code",
      "execution_count": null,
      "metadata": {
        "colab": {
          "base_uri": "https://localhost:8080/"
        },
        "id": "BFFZM02uq5ya",
        "outputId": "ee75f8dc-cead-4773-be66-fc2c835276b2"
      },
      "outputs": [
        {
          "output_type": "stream",
          "name": "stdout",
          "text": [
            "[[ 0  1  2  3]\n",
            " [ 4  5  6  7]\n",
            " [ 8  9 10 11]\n",
            " [12 13 14 15]\n",
            " [16 17 18 19]\n",
            " [20 21 22 23]\n",
            " [24 25 26 27]\n",
            " [28 29 30 31]]\n"
          ]
        }
      ],
      "source": [
        "G=np.arange(0,32).reshape(8,4)\n",
        "print(G)"
      ]
    },
    {
      "cell_type": "code",
      "source": [
        "A=np.random.rand(8,4) #rand - range between 0 and 1\n",
        "print(A)"
      ],
      "metadata": {
        "colab": {
          "base_uri": "https://localhost:8080/"
        },
        "id": "bV4Dt9IytN7j",
        "outputId": "55ec5530-796e-4977-a998-e8e4da3b4b62"
      },
      "execution_count": null,
      "outputs": [
        {
          "output_type": "stream",
          "name": "stdout",
          "text": [
            "[[0.64144873 0.29301041 0.99783679 0.38491061]\n",
            " [0.58870043 0.68933277 0.95932735 0.97570331]\n",
            " [0.5180747  0.84404224 0.82495171 0.14071419]\n",
            " [0.27535277 0.62600909 0.868751   0.08269784]\n",
            " [0.67158046 0.79177011 0.10995747 0.23696013]\n",
            " [0.36790457 0.08940165 0.64602933 0.71052868]\n",
            " [0.55326073 0.05017365 0.92260411 0.30185048]\n",
            " [0.95589926 0.04678633 0.31373913 0.63813482]]\n"
          ]
        }
      ]
    },
    {
      "cell_type": "code",
      "source": [
        "A=10*np.random.rand(8,4) #rand - range between 0 and 1\n",
        "print(A)"
      ],
      "metadata": {
        "colab": {
          "base_uri": "https://localhost:8080/"
        },
        "id": "v5rid8g8vK9l",
        "outputId": "e334be37-9b5f-4467-ec30-bb5c14179803"
      },
      "execution_count": null,
      "outputs": [
        {
          "output_type": "stream",
          "name": "stdout",
          "text": [
            "[[4.56394008 8.88277154 2.919284   3.49154793]\n",
            " [5.94974181 8.70355778 6.66646806 8.86700864]\n",
            " [1.44832843 8.14219599 0.39565832 3.05466844]\n",
            " [9.95937016 5.25428676 8.66194415 8.04713548]\n",
            " [4.82612781 6.8811304  7.60959875 1.49886469]\n",
            " [3.09429291 5.80042445 2.7715055  8.89231812]\n",
            " [8.96907937 4.28356942 4.83971937 0.59118486]\n",
            " [1.03440269 6.64440203 7.71980143 9.43831041]]\n"
          ]
        }
      ]
    },
    {
      "cell_type": "code",
      "source": [
        "A=np.floor(10*np.random.rand(8,4)) #rand - range between 0 and 1\n",
        "print(A)"
      ],
      "metadata": {
        "colab": {
          "base_uri": "https://localhost:8080/"
        },
        "id": "_erM_5-qvRse",
        "outputId": "01e75acb-65c7-49a8-fc58-f15522240b34"
      },
      "execution_count": null,
      "outputs": [
        {
          "output_type": "stream",
          "name": "stdout",
          "text": [
            "[[9. 7. 1. 5.]\n",
            " [5. 2. 4. 5.]\n",
            " [9. 6. 8. 8.]\n",
            " [9. 9. 4. 1.]\n",
            " [2. 1. 2. 3.]\n",
            " [7. 2. 3. 4.]\n",
            " [7. 2. 4. 8.]\n",
            " [2. 5. 6. 0.]]\n"
          ]
        }
      ]
    },
    {
      "cell_type": "code",
      "source": [
        "np.vsplit(A,4)"
      ],
      "metadata": {
        "colab": {
          "base_uri": "https://localhost:8080/"
        },
        "id": "fi0PfOGdworc",
        "outputId": "98e70fb2-9e50-4ba6-8dc9-7454100c3ef9"
      },
      "execution_count": null,
      "outputs": [
        {
          "output_type": "execute_result",
          "data": {
            "text/plain": [
              "[array([[9., 7., 1., 5.],\n",
              "        [5., 2., 4., 5.]]),\n",
              " array([[9., 6., 8., 8.],\n",
              "        [9., 9., 4., 1.]]),\n",
              " array([[2., 1., 2., 3.],\n",
              "        [7., 2., 3., 4.]]),\n",
              " array([[7., 2., 4., 8.],\n",
              "        [2., 5., 6., 0.]])]"
            ]
          },
          "metadata": {},
          "execution_count": 10
        }
      ]
    },
    {
      "cell_type": "code",
      "source": [
        "np.vsplit(A,2)"
      ],
      "metadata": {
        "colab": {
          "base_uri": "https://localhost:8080/"
        },
        "id": "HSdRgIjmxkQS",
        "outputId": "f8dcf262-4e04-495e-a015-3c53fa20a7a8"
      },
      "execution_count": null,
      "outputs": [
        {
          "output_type": "execute_result",
          "data": {
            "text/plain": [
              "[array([[9., 7., 1., 5.],\n",
              "        [5., 2., 4., 5.],\n",
              "        [9., 6., 8., 8.],\n",
              "        [9., 9., 4., 1.]]),\n",
              " array([[2., 1., 2., 3.],\n",
              "        [7., 2., 3., 4.],\n",
              "        [7., 2., 4., 8.],\n",
              "        [2., 5., 6., 0.]])]"
            ]
          },
          "metadata": {},
          "execution_count": 12
        }
      ]
    },
    {
      "cell_type": "code",
      "source": [
        "np.vsplit(A,(2,7))\n"
      ],
      "metadata": {
        "colab": {
          "base_uri": "https://localhost:8080/"
        },
        "id": "l0gkM_DsyCsk",
        "outputId": "27cdd1c9-c522-44d4-ab07-8dd88eb5dad8"
      },
      "execution_count": null,
      "outputs": [
        {
          "output_type": "execute_result",
          "data": {
            "text/plain": [
              "[array([[9., 7., 1., 5.],\n",
              "        [5., 2., 4., 5.]]),\n",
              " array([[9., 6., 8., 8.],\n",
              "        [9., 9., 4., 1.],\n",
              "        [2., 1., 2., 3.],\n",
              "        [7., 2., 3., 4.],\n",
              "        [7., 2., 4., 8.]]),\n",
              " array([[2., 5., 6., 0.]])]"
            ]
          },
          "metadata": {},
          "execution_count": 13
        }
      ]
    },
    {
      "cell_type": "code",
      "source": [
        "np.vsplit(A,(3,7))#split it after 3rd row 7th column"
      ],
      "metadata": {
        "colab": {
          "base_uri": "https://localhost:8080/"
        },
        "id": "RKVhb1xoyX00",
        "outputId": "f200bd8f-cbfd-4a7f-a99f-411121845805"
      },
      "execution_count": null,
      "outputs": [
        {
          "output_type": "execute_result",
          "data": {
            "text/plain": [
              "[array([[9., 7., 1., 5.],\n",
              "        [5., 2., 4., 5.],\n",
              "        [9., 6., 8., 8.]]),\n",
              " array([[9., 9., 4., 1.],\n",
              "        [2., 1., 2., 3.],\n",
              "        [7., 2., 3., 4.],\n",
              "        [7., 2., 4., 8.]]),\n",
              " array([[2., 5., 6., 0.]])]"
            ]
          },
          "metadata": {},
          "execution_count": 14
        }
      ]
    },
    {
      "cell_type": "code",
      "source": [
        "np.vsplit(A,(4,8))"
      ],
      "metadata": {
        "colab": {
          "base_uri": "https://localhost:8080/"
        },
        "id": "tYG8s-7wzE9K",
        "outputId": "72a1ed56-b04a-4f8e-af29-ee90719f7a00"
      },
      "execution_count": null,
      "outputs": [
        {
          "output_type": "execute_result",
          "data": {
            "text/plain": [
              "[array([[9., 7., 1., 5.],\n",
              "        [5., 2., 4., 5.],\n",
              "        [9., 6., 8., 8.],\n",
              "        [9., 9., 4., 1.]]),\n",
              " array([[2., 1., 2., 3.],\n",
              "        [7., 2., 3., 4.],\n",
              "        [7., 2., 4., 8.],\n",
              "        [2., 5., 6., 0.]]),\n",
              " array([], shape=(0, 4), dtype=float64)]"
            ]
          },
          "metadata": {},
          "execution_count": 15
        }
      ]
    },
    {
      "cell_type": "code",
      "source": [
        "np.hsplit(A,4)"
      ],
      "metadata": {
        "colab": {
          "base_uri": "https://localhost:8080/"
        },
        "id": "mcUtYohIzFfS",
        "outputId": "5d50f77f-2187-4355-c824-fae36d16134a"
      },
      "execution_count": null,
      "outputs": [
        {
          "output_type": "execute_result",
          "data": {
            "text/plain": [
              "[array([[9.],\n",
              "        [5.],\n",
              "        [9.],\n",
              "        [9.],\n",
              "        [2.],\n",
              "        [7.],\n",
              "        [7.],\n",
              "        [2.]]),\n",
              " array([[7.],\n",
              "        [2.],\n",
              "        [6.],\n",
              "        [9.],\n",
              "        [1.],\n",
              "        [2.],\n",
              "        [2.],\n",
              "        [5.]]),\n",
              " array([[1.],\n",
              "        [4.],\n",
              "        [8.],\n",
              "        [4.],\n",
              "        [2.],\n",
              "        [3.],\n",
              "        [4.],\n",
              "        [6.]]),\n",
              " array([[5.],\n",
              "        [5.],\n",
              "        [8.],\n",
              "        [1.],\n",
              "        [3.],\n",
              "        [4.],\n",
              "        [8.],\n",
              "        [0.]])]"
            ]
          },
          "metadata": {},
          "execution_count": 16
        }
      ]
    },
    {
      "cell_type": "code",
      "source": [
        "np.hsplit(A,(3,7))"
      ],
      "metadata": {
        "colab": {
          "base_uri": "https://localhost:8080/"
        },
        "id": "p_ZdynSe0pIF",
        "outputId": "450716d6-bd49-49fb-96ee-92994410b9b3"
      },
      "execution_count": null,
      "outputs": [
        {
          "output_type": "execute_result",
          "data": {
            "text/plain": [
              "[array([[9., 7., 1.],\n",
              "        [5., 2., 4.],\n",
              "        [9., 6., 8.],\n",
              "        [9., 9., 4.],\n",
              "        [2., 1., 2.],\n",
              "        [7., 2., 3.],\n",
              "        [7., 2., 4.],\n",
              "        [2., 5., 6.]]),\n",
              " array([[5.],\n",
              "        [5.],\n",
              "        [8.],\n",
              "        [1.],\n",
              "        [3.],\n",
              "        [4.],\n",
              "        [8.],\n",
              "        [0.]]),\n",
              " array([], shape=(8, 0), dtype=float64)]"
            ]
          },
          "metadata": {},
          "execution_count": 19
        }
      ]
    },
    {
      "cell_type": "code",
      "source": [
        "np.pi\n"
      ],
      "metadata": {
        "colab": {
          "base_uri": "https://localhost:8080/"
        },
        "id": "I-HJHzvG3jaH",
        "outputId": "b19c1a28-d7df-4915-fa90-bdc68981667f"
      },
      "execution_count": null,
      "outputs": [
        {
          "output_type": "execute_result",
          "data": {
            "text/plain": [
              "3.141592653589793"
            ]
          },
          "metadata": {},
          "execution_count": 20
        }
      ]
    },
    {
      "cell_type": "code",
      "source": [
        "A= [np.pi/4,np.pi/3,np.pi/2,np.pi]\n",
        "print(A)"
      ],
      "metadata": {
        "colab": {
          "base_uri": "https://localhost:8080/"
        },
        "id": "JdR32ly04MSv",
        "outputId": "183912ec-4808-4ee6-97ca-af7947ee1fd9"
      },
      "execution_count": null,
      "outputs": [
        {
          "output_type": "stream",
          "name": "stdout",
          "text": [
            "[0.7853981633974483, 1.0471975511965976, 1.5707963267948966, 3.141592653589793]\n"
          ]
        }
      ]
    },
    {
      "cell_type": "code",
      "source": [
        "np.rad2deg(A)"
      ],
      "metadata": {
        "colab": {
          "base_uri": "https://localhost:8080/"
        },
        "id": "VoozjLa04jJT",
        "outputId": "308f2db2-a21f-47d0-a322-c6fe6b00a1e6"
      },
      "execution_count": null,
      "outputs": [
        {
          "output_type": "execute_result",
          "data": {
            "text/plain": [
              "array([ 45.,  60.,  90., 180.])"
            ]
          },
          "metadata": {},
          "execution_count": 23
        }
      ]
    },
    {
      "cell_type": "code",
      "source": [
        "np.deg2rad(A)"
      ],
      "metadata": {
        "colab": {
          "base_uri": "https://localhost:8080/"
        },
        "id": "MYyGYTMv5MXK",
        "outputId": "70bd01f8-6fc9-4a2b-e477-a0a594432d65"
      },
      "execution_count": null,
      "outputs": [
        {
          "output_type": "execute_result",
          "data": {
            "text/plain": [
              "array([0.01370778, 0.01827705, 0.02741557, 0.05483114])"
            ]
          },
          "metadata": {},
          "execution_count": 24
        }
      ]
    },
    {
      "cell_type": "code",
      "source": [
        "np.sin(A)"
      ],
      "metadata": {
        "colab": {
          "base_uri": "https://localhost:8080/"
        },
        "id": "Wwidwh105j1G",
        "outputId": "05fde7bf-eb80-490a-8425-4a95cf0a9d78"
      },
      "execution_count": null,
      "outputs": [
        {
          "output_type": "execute_result",
          "data": {
            "text/plain": [
              "array([7.07106781e-01, 8.66025404e-01, 1.00000000e+00, 1.22464680e-16])"
            ]
          },
          "metadata": {},
          "execution_count": 25
        }
      ]
    },
    {
      "cell_type": "code",
      "source": [
        "np.cos(1)"
      ],
      "metadata": {
        "colab": {
          "base_uri": "https://localhost:8080/"
        },
        "id": "tHEGW1sK6AGF",
        "outputId": "3df57b13-f5bd-42c1-8115-ccf5760e0252"
      },
      "execution_count": null,
      "outputs": [
        {
          "output_type": "execute_result",
          "data": {
            "text/plain": [
              "0.5403023058681398"
            ]
          },
          "metadata": {},
          "execution_count": 26
        }
      ]
    },
    {
      "cell_type": "code",
      "source": [
        "np.sin(1)"
      ],
      "metadata": {
        "colab": {
          "base_uri": "https://localhost:8080/"
        },
        "id": "bJINBdP26J40",
        "outputId": "78d5fbd2-8a51-42ea-d474-a54a10ae54a8"
      },
      "execution_count": null,
      "outputs": [
        {
          "output_type": "execute_result",
          "data": {
            "text/plain": [
              "0.8414709848078965"
            ]
          },
          "metadata": {},
          "execution_count": 28
        }
      ]
    },
    {
      "cell_type": "code",
      "source": [
        "np.tan(np.pi/4)"
      ],
      "metadata": {
        "colab": {
          "base_uri": "https://localhost:8080/"
        },
        "id": "6KJv-EUn6Stl",
        "outputId": "713c6c58-7fe5-45e8-8dce-cfe5196365f2"
      },
      "execution_count": null,
      "outputs": [
        {
          "output_type": "execute_result",
          "data": {
            "text/plain": [
              "0.9999999999999999"
            ]
          },
          "metadata": {},
          "execution_count": 30
        }
      ]
    },
    {
      "cell_type": "markdown",
      "source": [
        "\n",
        "statistics\n"
      ],
      "metadata": {
        "id": "tVQwDz-E6vjJ"
      }
    },
    {
      "cell_type": "code",
      "source": [
        "st =np.array([23,45,67,89,21,34])"
      ],
      "metadata": {
        "id": "KVSP_Ihu61bM"
      },
      "execution_count": null,
      "outputs": []
    },
    {
      "cell_type": "code",
      "source": [
        "np.mean(st)"
      ],
      "metadata": {
        "colab": {
          "base_uri": "https://localhost:8080/"
        },
        "id": "xFZMjyF-7G1C",
        "outputId": "629e3d2f-c131-47fc-b792-fc1cf3a6978f"
      },
      "execution_count": null,
      "outputs": [
        {
          "output_type": "execute_result",
          "data": {
            "text/plain": [
              "46.5"
            ]
          },
          "metadata": {},
          "execution_count": 33
        }
      ]
    },
    {
      "cell_type": "code",
      "source": [
        "np.median(st)"
      ],
      "metadata": {
        "colab": {
          "base_uri": "https://localhost:8080/"
        },
        "id": "Xlynqm7d7MrQ",
        "outputId": "3e79fee4-1a62-41c3-9f82-4b267e767f86"
      },
      "execution_count": null,
      "outputs": [
        {
          "output_type": "execute_result",
          "data": {
            "text/plain": [
              "39.5"
            ]
          },
          "metadata": {},
          "execution_count": 34
        }
      ]
    },
    {
      "cell_type": "code",
      "source": [
        "np.var(st)"
      ],
      "metadata": {
        "colab": {
          "base_uri": "https://localhost:8080/"
        },
        "id": "obw6ROmH7UaG",
        "outputId": "9d42c9ba-a45e-49ed-af7a-ff9fcb867698"
      },
      "execution_count": null,
      "outputs": [
        {
          "output_type": "execute_result",
          "data": {
            "text/plain": [
              "597.9166666666666"
            ]
          },
          "metadata": {},
          "execution_count": 35
        }
      ]
    },
    {
      "cell_type": "code",
      "source": [
        "c= np.arange(1,5).reshape(2,2)"
      ],
      "metadata": {
        "id": "Z2PlBUxK_D4P"
      },
      "execution_count": null,
      "outputs": []
    },
    {
      "cell_type": "code",
      "source": [
        "np.linalg.inv(c)"
      ],
      "metadata": {
        "colab": {
          "base_uri": "https://localhost:8080/"
        },
        "id": "Eiii0jed-8-D",
        "outputId": "fbba59bc-f872-4361-c615-18dd1cf4c05f"
      },
      "execution_count": null,
      "outputs": [
        {
          "output_type": "execute_result",
          "data": {
            "text/plain": [
              "array([[-2. ,  1. ],\n",
              "       [ 1.5, -0.5]])"
            ]
          },
          "metadata": {},
          "execution_count": 37
        }
      ]
    },
    {
      "cell_type": "code",
      "source": [
        "c=np.arange(1,25).reshape(6,4)\n",
        "print(c)"
      ],
      "metadata": {
        "colab": {
          "base_uri": "https://localhost:8080/"
        },
        "id": "D1bYZWKj_-cD",
        "outputId": "68bb5de2-dece-4bbc-a2d1-512a2b20a66f"
      },
      "execution_count": null,
      "outputs": [
        {
          "output_type": "stream",
          "name": "stdout",
          "text": [
            "[[ 1  2  3  4]\n",
            " [ 5  6  7  8]\n",
            " [ 9 10 11 12]\n",
            " [13 14 15 16]\n",
            " [17 18 19 20]\n",
            " [21 22 23 24]]\n"
          ]
        }
      ]
    },
    {
      "cell_type": "code",
      "source": [
        "np.argmax(c)\n"
      ],
      "metadata": {
        "colab": {
          "base_uri": "https://localhost:8080/"
        },
        "id": "kurQMKGZAfwa",
        "outputId": "d8b049ba-c7c1-4f8c-bb09-a9a70f3d5ce2"
      },
      "execution_count": null,
      "outputs": [
        {
          "output_type": "execute_result",
          "data": {
            "text/plain": [
              "23"
            ]
          },
          "metadata": {},
          "execution_count": 39
        }
      ]
    },
    {
      "cell_type": "code",
      "source": [
        "d=np.floor(10*np.random.rand(6,4))\n",
        "print(d)"
      ],
      "metadata": {
        "colab": {
          "base_uri": "https://localhost:8080/"
        },
        "id": "1qPu-r9FA2Mu",
        "outputId": "8385652c-6b66-44b4-b748-2133e79008eb"
      },
      "execution_count": null,
      "outputs": [
        {
          "output_type": "stream",
          "name": "stdout",
          "text": [
            "[[6. 1. 0. 4.]\n",
            " [2. 1. 3. 2.]\n",
            " [2. 7. 3. 0.]\n",
            " [9. 5. 4. 6.]\n",
            " [0. 4. 4. 4.]\n",
            " [0. 8. 6. 9.]]\n"
          ]
        }
      ]
    },
    {
      "cell_type": "code",
      "source": [
        "print(np.argmax(d))"
      ],
      "metadata": {
        "colab": {
          "base_uri": "https://localhost:8080/"
        },
        "id": "fDyg4BCuBNEL",
        "outputId": "47249c1b-e34c-4535-b534-668703ce8717"
      },
      "execution_count": null,
      "outputs": [
        {
          "output_type": "stream",
          "name": "stdout",
          "text": [
            "12\n"
          ]
        }
      ]
    },
    {
      "cell_type": "code",
      "source": [
        "d=10*np.random.rand(6,4)\n",
        "print(d)\n"
      ],
      "metadata": {
        "colab": {
          "base_uri": "https://localhost:8080/"
        },
        "id": "rec2FUCZBdrM",
        "outputId": "77aa7bb3-2a7c-40e9-fdbb-27c51509a18b"
      },
      "execution_count": null,
      "outputs": [
        {
          "output_type": "stream",
          "name": "stdout",
          "text": [
            "[[7.21551845 0.44474068 2.50063271 5.32624358]\n",
            " [0.79205581 8.36862368 6.11720653 5.60982419]\n",
            " [5.42787206 9.07629956 8.8698149  5.39271196]\n",
            " [5.98628019 1.08439988 1.52132187 4.83148006]\n",
            " [5.49451542 6.93836166 1.6289139  8.67499575]\n",
            " [2.1956288  4.57257091 9.86504523 8.74112321]]\n"
          ]
        }
      ]
    },
    {
      "cell_type": "code",
      "source": [
        "print(np.argmax(d))"
      ],
      "metadata": {
        "colab": {
          "base_uri": "https://localhost:8080/"
        },
        "id": "AgNDZO2QByPR",
        "outputId": "6e65003e-14ff-4232-9e61-e1a865f9c327"
      },
      "execution_count": null,
      "outputs": [
        {
          "output_type": "stream",
          "name": "stdout",
          "text": [
            "12\n"
          ]
        }
      ]
    },
    {
      "cell_type": "code",
      "source": [
        "print(np.argmax(c,axis =1))\n",
        "print(c)"
      ],
      "metadata": {
        "colab": {
          "base_uri": "https://localhost:8080/"
        },
        "id": "or_lCoRrCBoo",
        "outputId": "395ae5be-665a-486b-8255-a5261db58be0"
      },
      "execution_count": null,
      "outputs": [
        {
          "output_type": "stream",
          "name": "stdout",
          "text": [
            "[3 3 3 3 3 3]\n",
            "[[ 1  2  3  4]\n",
            " [ 5  6  7  8]\n",
            " [ 9 10 11 12]\n",
            " [13 14 15 16]\n",
            " [17 18 19 20]\n",
            " [21 22 23 24]]\n"
          ]
        }
      ]
    },
    {
      "cell_type": "code",
      "source": [
        "print(np.argmax(c,axis =0))"
      ],
      "metadata": {
        "colab": {
          "base_uri": "https://localhost:8080/"
        },
        "id": "M0njOfXDDZhu",
        "outputId": "d77c8248-6bca-403d-d4f0-15b1140c3d1e"
      },
      "execution_count": null,
      "outputs": [
        {
          "output_type": "stream",
          "name": "stdout",
          "text": [
            "[5 5 5 5]\n"
          ]
        }
      ]
    },
    {
      "cell_type": "code",
      "source": [
        "np.argmin(d)"
      ],
      "metadata": {
        "colab": {
          "base_uri": "https://localhost:8080/"
        },
        "id": "xywcXCVYEYLn",
        "outputId": "b348b4b2-0d3d-4c32-bdc9-966592d2c709"
      },
      "execution_count": null,
      "outputs": [
        {
          "output_type": "execute_result",
          "data": {
            "text/plain": [
              "1"
            ]
          },
          "metadata": {},
          "execution_count": 48
        }
      ]
    },
    {
      "cell_type": "code",
      "source": [
        "np.argmin(d,axis=0)"
      ],
      "metadata": {
        "colab": {
          "base_uri": "https://localhost:8080/"
        },
        "id": "-SmtcdweEmG2",
        "outputId": "76845dda-1dd5-4719-8151-897c12a2454a"
      },
      "execution_count": null,
      "outputs": [
        {
          "output_type": "execute_result",
          "data": {
            "text/plain": [
              "array([1, 0, 3, 3])"
            ]
          },
          "metadata": {},
          "execution_count": 49
        }
      ]
    },
    {
      "cell_type": "code",
      "source": [
        "np.argmin(d,axis=1)"
      ],
      "metadata": {
        "colab": {
          "base_uri": "https://localhost:8080/"
        },
        "id": "PJExSFchEsTx",
        "outputId": "f8feaa31-fa77-4690-d638-d514e09128e6"
      },
      "execution_count": null,
      "outputs": [
        {
          "output_type": "execute_result",
          "data": {
            "text/plain": [
              "array([1, 0, 3, 1, 2, 0])"
            ]
          },
          "metadata": {},
          "execution_count": 50
        }
      ]
    },
    {
      "cell_type": "markdown",
      "source": [
        "searching"
      ],
      "metadata": {
        "id": "CGyjYaFxFLtU"
      }
    },
    {
      "cell_type": "code",
      "source": [
        "a=np.array([34,56,7,17,88,91])\n",
        "print(np.where(a%2==0))"
      ],
      "metadata": {
        "colab": {
          "base_uri": "https://localhost:8080/"
        },
        "id": "kMXcaFgbFN_g",
        "outputId": "2791e2c1-707b-4e5a-f124-1a0921c0d349"
      },
      "execution_count": null,
      "outputs": [
        {
          "output_type": "stream",
          "name": "stdout",
          "text": [
            "(array([0, 1, 4]),)\n"
          ]
        }
      ]
    },
    {
      "cell_type": "code",
      "source": [
        "a=np.array([24,16,7,17,54,60])\n",
        "print(np.where(a%6==0))"
      ],
      "metadata": {
        "colab": {
          "base_uri": "https://localhost:8080/"
        },
        "id": "8lHF8-G2GqIn",
        "outputId": "d6698e70-3330-4916-ab3d-b5b469457ccc"
      },
      "execution_count": null,
      "outputs": [
        {
          "output_type": "stream",
          "name": "stdout",
          "text": [
            "(array([0, 4, 5]),)\n"
          ]
        }
      ]
    },
    {
      "cell_type": "code",
      "source": [
        "b=np.array([6,7,8,9,10])\n",
        "x=np.searchsorted(a,10)\n",
        "print(x)"
      ],
      "metadata": {
        "colab": {
          "base_uri": "https://localhost:8080/"
        },
        "id": "XdzGwYPUHlMo",
        "outputId": "d1c6f6df-b133-4530-e212-75cc5213f45a"
      },
      "execution_count": null,
      "outputs": [
        {
          "output_type": "stream",
          "name": "stdout",
          "text": [
            "4\n"
          ]
        }
      ]
    },
    {
      "cell_type": "code",
      "source": [
        "print(np.sort(a))"
      ],
      "metadata": {
        "colab": {
          "base_uri": "https://localhost:8080/"
        },
        "id": "xHwJAv-xI4bo",
        "outputId": "0e1f927f-1a6f-4c9c-c0bb-81fb355c08f5"
      },
      "execution_count": null,
      "outputs": [
        {
          "output_type": "stream",
          "name": "stdout",
          "text": [
            "[ 7 16 17 24 54 60]\n"
          ]
        }
      ]
    },
    {
      "cell_type": "code",
      "source": [
        "arr=np.array([True,False,True])\n",
        "print(np.sort(arr))"
      ],
      "metadata": {
        "colab": {
          "base_uri": "https://localhost:8080/"
        },
        "id": "pLf2UbsHJY1U",
        "outputId": "e6b452a0-b1f7-4c04-e2c3-917471379a2e"
      },
      "execution_count": null,
      "outputs": [
        {
          "output_type": "stream",
          "name": "stdout",
          "text": [
            "[False  True  True]\n"
          ]
        }
      ]
    },
    {
      "cell_type": "code",
      "source": [
        "brr=np.array([[5,4,3],[9,8,7]])\n",
        "print(np.sort(brr))"
      ],
      "metadata": {
        "colab": {
          "base_uri": "https://localhost:8080/"
        },
        "id": "7SoevFB-JnqG",
        "outputId": "25f8efb5-35f1-41b2-d5e8-f97799e2588f"
      },
      "execution_count": null,
      "outputs": [
        {
          "output_type": "stream",
          "name": "stdout",
          "text": [
            "[[3 4 5]\n",
            " [7 8 9]]\n"
          ]
        }
      ]
    },
    {
      "cell_type": "code",
      "source": [
        "f=np.array([48,56,78,98,89])\n",
        "filt=np.where(f%2==0)\n",
        "print(filt)"
      ],
      "metadata": {
        "colab": {
          "base_uri": "https://localhost:8080/"
        },
        "id": "8VTPD5HbLnIL",
        "outputId": "f1e6a587-6c59-4997-a905-13e4c02eb453"
      },
      "execution_count": null,
      "outputs": [
        {
          "output_type": "stream",
          "name": "stdout",
          "text": [
            "(array([0, 1, 2, 3]),)\n"
          ]
        }
      ]
    },
    {
      "cell_type": "code",
      "source": [
        "f[filt]"
      ],
      "metadata": {
        "colab": {
          "base_uri": "https://localhost:8080/"
        },
        "id": "pSgSCT8AL8h5",
        "outputId": "037c777b-0bb6-4425-8da2-30203e7466e2"
      },
      "execution_count": null,
      "outputs": [
        {
          "output_type": "execute_result",
          "data": {
            "text/plain": [
              "array([48, 56, 78, 98])"
            ]
          },
          "metadata": {},
          "execution_count": 77
        }
      ]
    },
    {
      "cell_type": "code",
      "source": [
        "y"
      ],
      "metadata": {
        "id": "agkaTb7QO_qM"
      },
      "execution_count": null,
      "outputs": []
    },
    {
      "cell_type": "code",
      "source": [
        "names=np.array(['Jwalalitha','Sripadha','Siva Koti reddy'])\n",
        "intials=np.array(['K','K','M'])\n",
        "for i,j in zip(intials,names):\n",
        "  print(i,\" . \",j)"
      ],
      "metadata": {
        "colab": {
          "base_uri": "https://localhost:8080/"
        },
        "id": "jDXmykxAOPO-",
        "outputId": "a9dd5fd8-a0ec-49c4-af4c-956db38cb33f"
      },
      "execution_count": null,
      "outputs": [
        {
          "output_type": "stream",
          "name": "stdout",
          "text": [
            "K  .  Jwalalitha\n",
            "K  .  Sripadha\n",
            "M  .  Siva Koti reddy\n"
          ]
        }
      ]
    },
    {
      "cell_type": "code",
      "source": [
        "a1=np.array([10,20,30,40,50,60])\n",
        "a2=np.array([20,21,22,23,24,25])\n",
        "print(np.multiply(a1,a2))"
      ],
      "metadata": {
        "colab": {
          "base_uri": "https://localhost:8080/"
        },
        "id": "EQ5OAnLRQYcV",
        "outputId": "113156d5-a70c-43b7-fea7-f777249ff5c8"
      },
      "execution_count": null,
      "outputs": [
        {
          "output_type": "stream",
          "name": "stdout",
          "text": [
            "[ 200  420  660  920 1200 1500]\n"
          ]
        }
      ]
    },
    {
      "cell_type": "code",
      "source": [
        "print(np.divide(a1,a2))"
      ],
      "metadata": {
        "colab": {
          "base_uri": "https://localhost:8080/"
        },
        "id": "J0YTd_q_Rphb",
        "outputId": "a9f2d24f-faf5-4929-e990-32606e6952a4"
      },
      "execution_count": null,
      "outputs": [
        {
          "output_type": "stream",
          "name": "stdout",
          "text": [
            "[0.5        0.95238095 1.36363636 1.73913043 2.08333333 2.4       ]\n"
          ]
        }
      ]
    },
    {
      "cell_type": "code",
      "source": [
        "print(np.mod(a1,a2))"
      ],
      "metadata": {
        "colab": {
          "base_uri": "https://localhost:8080/"
        },
        "id": "14MF5Ip_R3IK",
        "outputId": "146a7c62-6ea2-4ad9-911e-9af1fd6ca9f3"
      },
      "execution_count": null,
      "outputs": [
        {
          "output_type": "stream",
          "name": "stdout",
          "text": [
            "[10 20  8 17  2 10]\n"
          ]
        }
      ]
    },
    {
      "cell_type": "code",
      "source": [
        "print(np.divmod(a1,a2))"
      ],
      "metadata": {
        "colab": {
          "base_uri": "https://localhost:8080/"
        },
        "id": "er4rGm0DR8fO",
        "outputId": "73c5b0e6-fa11-42de-e590-ccdb52ee1d4d"
      },
      "execution_count": null,
      "outputs": [
        {
          "output_type": "stream",
          "name": "stdout",
          "text": [
            "(array([0, 0, 1, 1, 2, 2]), array([10, 20,  8, 17,  2, 10]))\n"
          ]
        }
      ]
    },
    {
      "cell_type": "code",
      "source": [
        "a=1.2\n",
        "print(a)\n",
        "print(np.log2(a))\n"
      ],
      "metadata": {
        "colab": {
          "base_uri": "https://localhost:8080/"
        },
        "id": "g3kIzP1RSYvW",
        "outputId": "bb69c3aa-8cbc-4257-af45-a8a6878d7b16"
      },
      "execution_count": null,
      "outputs": [
        {
          "output_type": "stream",
          "name": "stdout",
          "text": [
            "1.2\n",
            "0.2630344058337938\n"
          ]
        }
      ]
    },
    {
      "cell_type": "code",
      "source": [
        "a=1.2\n",
        "print(np.log(a))"
      ],
      "metadata": {
        "colab": {
          "base_uri": "https://localhost:8080/"
        },
        "id": "3NYzPEMrSdNl",
        "outputId": "0272c349-e603-428c-eaba-4c7dfdb233c2"
      },
      "execution_count": null,
      "outputs": [
        {
          "output_type": "stream",
          "name": "stdout",
          "text": [
            "0.1823215567939546\n"
          ]
        }
      ]
    },
    {
      "cell_type": "code",
      "source": [
        "print(np.log(a1))\n"
      ],
      "metadata": {
        "colab": {
          "base_uri": "https://localhost:8080/"
        },
        "id": "0V4gtZ9KTrmR",
        "outputId": "47b39f84-b08f-4336-ce0c-6c12c5b810b2"
      },
      "execution_count": null,
      "outputs": [
        {
          "output_type": "stream",
          "name": "stdout",
          "text": [
            "[2.30258509 2.99573227 3.40119738 3.68887945 3.91202301 4.09434456]\n"
          ]
        }
      ]
    },
    {
      "cell_type": "markdown",
      "source": [
        "Other mathematical functions"
      ],
      "metadata": {
        "id": "9kqyYY4nUwjQ"
      }
    },
    {
      "cell_type": "code",
      "source": [
        "a2= np.array([5,6,7,10])\n",
        "print(np.cumprod(a2))"
      ],
      "metadata": {
        "colab": {
          "base_uri": "https://localhost:8080/"
        },
        "id": "vyOZYK6pU7XI",
        "outputId": "5c4e55f0-9825-487f-ecb6-2a80e61db202"
      },
      "execution_count": null,
      "outputs": [
        {
          "output_type": "stream",
          "name": "stdout",
          "text": [
            "[   5   30  210 2100]\n"
          ]
        }
      ]
    },
    {
      "cell_type": "code",
      "source": [
        "print(np.diff(a2))\n"
      ],
      "metadata": {
        "colab": {
          "base_uri": "https://localhost:8080/"
        },
        "id": "LTkv1UrmVbzn",
        "outputId": "8ecf61a6-88fe-43dd-a17b-07d62d8611fa"
      },
      "execution_count": null,
      "outputs": [
        {
          "output_type": "stream",
          "name": "stdout",
          "text": [
            "[1 1 3]\n"
          ]
        }
      ]
    },
    {
      "cell_type": "code",
      "source": [
        "print(np.cumsum(a2))\n"
      ],
      "metadata": {
        "colab": {
          "base_uri": "https://localhost:8080/"
        },
        "id": "BqmFff-mWJSm",
        "outputId": "31fdc567-558e-4256-c206-62b613a6fa65"
      },
      "execution_count": null,
      "outputs": [
        {
          "output_type": "stream",
          "name": "stdout",
          "text": [
            "[ 5 11 18 28]\n"
          ]
        }
      ]
    },
    {
      "cell_type": "code",
      "source": [
        "a=np.array"
      ],
      "metadata": {
        "id": "QK49neZQXgPk"
      },
      "execution_count": null,
      "outputs": []
    }
  ]
}